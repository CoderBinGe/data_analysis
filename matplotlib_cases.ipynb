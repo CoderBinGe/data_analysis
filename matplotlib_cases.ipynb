{
 "cells": [
  {
   "cell_type": "markdown",
   "metadata": {},
   "source": [
    "![](../img/chinahadoop.png)"
   ]
  },
  {
   "cell_type": "markdown",
   "metadata": {},
   "source": [
    "# matplotlib应用案例\n",
    "\n",
    "\n",
    "## 案例：自行车租赁数据分析与可视化\n",
    "### 步骤1：导入数据与简易数据处理"
   ]
  },
  {
   "cell_type": "code",
   "execution_count": 1,
   "metadata": {},
   "outputs": [
    {
     "data": {
      "text/plain": [
       "('bike_data/Bike-Sharing-Dataset.zip',\n",
       " <http.client.HTTPMessage at 0x23455bc5b70>)"
      ]
     },
     "execution_count": 1,
     "metadata": {},
     "output_type": "execute_result"
    }
   ],
   "source": [
    "import urllib \n",
    "import os\n",
    "import warnings\n",
    "warnings.filterwarnings('ignore')\n",
    "\n",
    "\n",
    "# 建立临时目录\n",
    "try:\n",
    "    os.system('mkdir bike_data') \n",
    "except:\n",
    "    os.system('rm -rf bike_data; mkdir bike_data')\n",
    "\n",
    "# 获取网络数据    \n",
    "data_source = 'http://archive.ics.uci.edu/ml/machine-learning-databases/00275/Bike-Sharing-Dataset.zip' # 网络数据地址\n",
    "zipname = 'bike_data/Bike-Sharing-Dataset.zip' # 拼接文件和路径\n",
    "urllib.request.urlretrieve(data_source, zipname) # 获得数据"
   ]
  },
  {
   "cell_type": "code",
   "execution_count": 2,
   "metadata": {},
   "outputs": [],
   "source": [
    "import zipfile # 压缩解压\n",
    "\n",
    " # 创建一个ZipFile对象处理压缩文件\n",
    "zip_ref = zipfile.ZipFile(zipname, 'r')\n",
    "zip_ref.extractall('bike_data') # 解压\n",
    "zip_ref.close()"
   ]
  },
  {
   "cell_type": "code",
   "execution_count": 21,
   "metadata": {
    "scrolled": true
   },
   "outputs": [
    {
     "data": {
      "text/plain": [
       "(731, 7)"
      ]
     },
     "execution_count": 21,
     "metadata": {},
     "output_type": "execute_result"
    },
    {
     "data": {
      "text/html": [
       "<div>\n",
       "<style scoped>\n",
       "    .dataframe tbody tr th:only-of-type {\n",
       "        vertical-align: middle;\n",
       "    }\n",
       "\n",
       "    .dataframe tbody tr th {\n",
       "        vertical-align: top;\n",
       "    }\n",
       "\n",
       "    .dataframe thead th {\n",
       "        text-align: right;\n",
       "    }\n",
       "</style>\n",
       "<table border=\"1\" class=\"dataframe\">\n",
       "  <thead>\n",
       "    <tr style=\"text-align: right;\">\n",
       "      <th></th>\n",
       "      <th>dteday</th>\n",
       "      <th>weekday</th>\n",
       "      <th>temp</th>\n",
       "      <th>windspeed</th>\n",
       "      <th>casual</th>\n",
       "      <th>registered</th>\n",
       "      <th>cnt</th>\n",
       "    </tr>\n",
       "  </thead>\n",
       "  <tbody>\n",
       "    <tr>\n",
       "      <th>0</th>\n",
       "      <td>2011-01-01</td>\n",
       "      <td>6</td>\n",
       "      <td>0.344167</td>\n",
       "      <td>0.160446</td>\n",
       "      <td>331</td>\n",
       "      <td>654</td>\n",
       "      <td>985</td>\n",
       "    </tr>\n",
       "    <tr>\n",
       "      <th>1</th>\n",
       "      <td>2011-01-02</td>\n",
       "      <td>0</td>\n",
       "      <td>0.363478</td>\n",
       "      <td>0.248539</td>\n",
       "      <td>131</td>\n",
       "      <td>670</td>\n",
       "      <td>801</td>\n",
       "    </tr>\n",
       "    <tr>\n",
       "      <th>2</th>\n",
       "      <td>2011-01-03</td>\n",
       "      <td>1</td>\n",
       "      <td>0.196364</td>\n",
       "      <td>0.248309</td>\n",
       "      <td>120</td>\n",
       "      <td>1229</td>\n",
       "      <td>1349</td>\n",
       "    </tr>\n",
       "    <tr>\n",
       "      <th>3</th>\n",
       "      <td>2011-01-04</td>\n",
       "      <td>2</td>\n",
       "      <td>0.200000</td>\n",
       "      <td>0.160296</td>\n",
       "      <td>108</td>\n",
       "      <td>1454</td>\n",
       "      <td>1562</td>\n",
       "    </tr>\n",
       "    <tr>\n",
       "      <th>4</th>\n",
       "      <td>2011-01-05</td>\n",
       "      <td>3</td>\n",
       "      <td>0.226957</td>\n",
       "      <td>0.186900</td>\n",
       "      <td>82</td>\n",
       "      <td>1518</td>\n",
       "      <td>1600</td>\n",
       "    </tr>\n",
       "  </tbody>\n",
       "</table>\n",
       "</div>"
      ],
      "text/plain": [
       "      dteday  weekday      temp  windspeed  casual  registered   cnt\n",
       "0 2011-01-01        6  0.344167   0.160446     331         654   985\n",
       "1 2011-01-02        0  0.363478   0.248539     131         670   801\n",
       "2 2011-01-03        1  0.196364   0.248309     120        1229  1349\n",
       "3 2011-01-04        2  0.200000   0.160296     108        1454  1562\n",
       "4 2011-01-05        3  0.226957   0.186900      82        1518  1600"
      ]
     },
     "execution_count": 21,
     "metadata": {},
     "output_type": "execute_result"
    }
   ],
   "source": [
    "%config ZMQInteractiveShell.ast_node_interactivity='all'\n",
    "import pandas as pd\n",
    "\n",
    "daily_data = pd.read_csv('bike_data/day.csv') # 读取csv文件\n",
    "daily_data['dteday'] = pd.to_datetime(daily_data['dteday']) # 把字符串数据传换成日期数据\n",
    "\n",
    "# 删除不关注的列\n",
    "drop_list = ['instant', 'season', 'yr', 'mnth', 'holiday', 'workingday', 'weathersit', 'atemp', 'hum'] \n",
    "daily_data.drop(drop_list, inplace = True, axis = 1) # inplace=true在对象上直接操作\n",
    "\n",
    "daily_data.shape\n",
    "daily_data.head()"
   ]
  },
  {
   "cell_type": "markdown",
   "metadata": {},
   "source": [
    "### 步骤2：配置参数"
   ]
  },
  {
   "cell_type": "code",
   "execution_count": 4,
   "metadata": {},
   "outputs": [],
   "source": [
    "from __future__ import division, print_function # 引入3.x版本的除法和打印\n",
    "from matplotlib import pyplot as plt\n",
    "import pandas as pd\n",
    "import numpy as np\n",
    "# 在notebook中显示绘图结果\n",
    "%matplotlib inline\n",
    "\n",
    "# 设置一些全局的资源参数，可以进行个性化修改\n",
    "import matplotlib\n",
    "# 设置图片尺寸 14\" x 7\"\n",
    "# rc: resource configuration\n",
    "matplotlib.rc('figure', figsize = (14, 7))\n",
    "# 设置字体 14\n",
    "matplotlib.rc('font', size = 14)\n",
    "# 不显示顶部和右侧的坐标线\n",
    "matplotlib.rc('axes.spines', top = False, right = False)\n",
    "# 不显示网格\n",
    "matplotlib.rc('axes', grid = False)\n",
    "# 设置背景颜色是白色\n",
    "matplotlib.rc('axes', facecolor = 'white')"
   ]
  },
  {
   "cell_type": "markdown",
   "metadata": {},
   "source": [
    "### 步骤3：关联分析\n",
    "\n",
    "#### 散点图\n",
    "* 分析变量关系"
   ]
  },
  {
   "cell_type": "code",
   "execution_count": 5,
   "metadata": {},
   "outputs": [
    {
     "data": {
      "image/png": "[encoded data removed]",
      "text/plain": [
       "<Figure size 432x288 with 1 Axes>"
      ]
     },
     "metadata": {
      "needs_background": "light"
     },
     "output_type": "display_data"
    }
   ],
   "source": [
    "from matplotlib import font_manager\n",
    "fontP = font_manager.FontProperties()\n",
    "fontP.set_family('SimHei')\n",
    "fontP.set_size(14)\n",
    "\n",
    "# 包装一个散点图的函数便于复用\n",
    "def scatterplot(x_data, y_data, x_label, y_label, title):\n",
    "\n",
    "    # 创建一个绘图对象\n",
    "    fig, ax = plt.subplots()\n",
    "\n",
    "    # 设置数据、点的大小、点的颜色和透明度\n",
    "    ax.scatter(x_data, y_data, s = 10, color = '#539caf', alpha = 0.75) # http://www.114la.com/other/rgb.htm\n",
    "\n",
    "    # 添加标题和坐标说明\n",
    "    ax.set_title(title)\n",
    "    ax.set_xlabel(x_label)\n",
    "    ax.set_ylabel(y_label)\n",
    "\n",
    "# 绘制散点图\n",
    "scatterplot(x_data = daily_data['temp'].values\n",
    "            , y_data = daily_data['cnt'].values\n",
    "            , x_label = 'Normalized temperature (C)'\n",
    "            , y_label = 'Check outs'\n",
    "            , title = 'Number of Check Outs vs Temperature')"
   ]
  },
  {
   "cell_type": "markdown",
   "metadata": {},
   "source": [
    "#### 曲线图\n",
    "* 拟合变量关系"
   ]
  },
  {
   "cell_type": "code",
   "execution_count": 6,
   "metadata": {},
   "outputs": [
    {
     "data": {
      "image/png": "[encoded data removed]",
      "text/plain": [
       "<Figure size 432x288 with 1 Axes>"
      ]
     },
     "metadata": {
      "needs_background": "light"
     },
     "output_type": "display_data"
    }
   ],
   "source": [
    "# 线性回归\n",
    "import statsmodels.api as sm # 最小二乘\n",
    "from statsmodels.stats.outliers_influence import summary_table # 获得汇总信息\n",
    "x = sm.add_constant(daily_data['temp']) # 线性回归增加常数项 y=kx+b\n",
    "y = daily_data['cnt']\n",
    "regr = sm.OLS(y, x) # 普通最小二乘模型，ordinary least square model\n",
    "res = regr.fit()\n",
    "# 从模型获得拟合数据\n",
    "st, data, ss2 = summary_table(res, alpha=0.05) # 置信水平alpha=5%，st数据汇总，data数据详情，ss2数据列名\n",
    "fitted_values = data[:,2]\n",
    "\n",
    "# 包装曲线绘制函数\n",
    "def lineplot(x_data, y_data, x_label, y_label, title):\n",
    "    # 创建绘图对象\n",
    "    _, ax = plt.subplots()\n",
    "\n",
    "    # 绘制拟合曲线，lw=linewidth，alpha=transparancy\n",
    "    ax.plot(x_data, y_data, lw = 2, color = '#539caf', alpha = 1)\n",
    "\n",
    "    # 添加标题和坐标说明\n",
    "    ax.set_title(title)\n",
    "    ax.set_xlabel(x_label)\n",
    "    ax.set_ylabel(y_label)\n",
    "\n",
    "# 调用绘图函数\n",
    "lineplot(x_data = daily_data['temp']\n",
    "         , y_data = fitted_values\n",
    "         , x_label = 'Normalized temperature (C)'\n",
    "         , y_label = 'Check outs'\n",
    "         , title = 'Line of Best Fit for Number of Check Outs vs Temperature')"
   ]
  },
  {
   "cell_type": "markdown",
   "metadata": {},
   "source": [
    "#### 带置信区间的曲线图\n",
    "* 评估曲线拟合结果"
   ]
  },
  {
   "cell_type": "code",
   "execution_count": 7,
   "metadata": {},
   "outputs": [
    {
     "data": {
      "image/png": "[encoded data removed]",
      "text/plain": [
       "<Figure size 432x288 with 1 Axes>"
      ]
     },
     "metadata": {
      "needs_background": "light"
     },
     "output_type": "display_data"
    }
   ],
   "source": [
    "# 获得5%置信区间的上下界\n",
    "predict_mean_ci_low, predict_mean_ci_upp = data[:,4:6].T\n",
    "\n",
    "# 创建置信区间DataFrame，上下界\n",
    "CI_df = pd.DataFrame(columns = ['x_data', 'low_CI', 'upper_CI'])\n",
    "CI_df['x_data'] = daily_data['temp']\n",
    "CI_df['low_CI'] = predict_mean_ci_low\n",
    "CI_df['upper_CI'] = predict_mean_ci_upp\n",
    "CI_df.sort_values('x_data', inplace = True) # 根据x_data进行排序\n",
    "\n",
    "# 绘制置信区间\n",
    "def lineplotCI(x_data, y_data, sorted_x, low_CI, upper_CI, x_label, y_label, title):\n",
    "    # 创建绘图对象\n",
    "    _, ax = plt.subplots()\n",
    "\n",
    "    # 绘制预测曲线\n",
    "    ax.plot(x_data, y_data, lw = 1, color = '#539caf', alpha = 1, label = 'Fit')\n",
    "    # 绘制置信区间，顺序填充\n",
    "    ax.fill_between(sorted_x, low_CI, upper_CI, color = '#539caf', alpha = 0.4, label = '95% CI')\n",
    "    # 添加标题和坐标说明\n",
    "    ax.set_title(title)\n",
    "    ax.set_xlabel(x_label)\n",
    "    ax.set_ylabel(y_label)\n",
    "\n",
    "    # 显示图例，配合label参数，loc=“best”自适应方式\n",
    "    ax.legend(loc = 'best')\n",
    "\n",
    "# Call the function to create plot\n",
    "lineplotCI(x_data = daily_data['temp']\n",
    "           , y_data = fitted_values\n",
    "           , sorted_x = CI_df['x_data']\n",
    "           , low_CI = CI_df['low_CI']\n",
    "           , upper_CI = CI_df['upper_CI']\n",
    "           , x_label = 'Normalized temperature (C)'\n",
    "           , y_label = 'Check outs'\n",
    "           , title = 'Line of Best Fit for Number of Check Outs vs Temperature')"
   ]
  },
  {
   "cell_type": "markdown",
   "metadata": {},
   "source": [
    "#### 双坐标曲线图\n",
    "* 曲线拟合不满足置信阈值时，考虑增加独立变量\n",
    "* 分析不同尺度多变量的关系"
   ]
  },
  {
   "cell_type": "code",
   "execution_count": 8,
   "metadata": {},
   "outputs": [
    {
     "data": {
      "image/png": "[encoded data removed]",
      "text/plain": [
       "<Figure size 432x288 with 2 Axes>"
      ]
     },
     "metadata": {
      "needs_background": "light"
     },
     "output_type": "display_data"
    }
   ],
   "source": [
    "# 双纵坐标绘图函数\n",
    "def lineplot2y(x_data, x_label, y1_data, y1_color, y1_label, y2_data, y2_color, y2_label, title):\n",
    "    _, ax1 = plt.subplots()\n",
    "    ax1.plot(x_data, y1_data, color = y1_color)\n",
    "    # 添加标题和坐标说明\n",
    "    ax1.set_ylabel(y1_label, color = y1_color)\n",
    "    ax1.set_xlabel(x_label)\n",
    "    ax1.set_title(title)\n",
    "\n",
    "    ax2 = ax1.twinx() # 两个绘图对象共享横坐标轴\n",
    "    ax2.plot(x_data, y2_data, color = y2_color)\n",
    "    ax2.set_ylabel(y2_label, color = y2_color)\n",
    "    # 右侧坐标轴可见\n",
    "    ax2.spines['right'].set_visible(True)\n",
    "\n",
    "# 调用绘图函数\n",
    "lineplot2y(x_data = daily_data['dteday']\n",
    "           , x_label = 'Day'\n",
    "           , y1_data = daily_data['cnt']\n",
    "           , y1_color = '#539caf'\n",
    "           , y1_label = 'Check outs'\n",
    "           , y2_data = daily_data['windspeed']\n",
    "           , y2_color = '#7663b0'\n",
    "           , y2_label = 'Normalized windspeed'\n",
    "           , title = 'Check Outs and Windspeed Over Time')"
   ]
  },
  {
   "cell_type": "markdown",
   "metadata": {},
   "source": [
    "### 步骤4：分布分析\n",
    "\n",
    "#### 灰度图\n",
    "* 粗略区间计数"
   ]
  },
  {
   "cell_type": "code",
   "execution_count": 9,
   "metadata": {},
   "outputs": [
    {
     "data": {
      "text/plain": [
       "array([ 14.,  44.,  79.,  80., 113., 144.,  85.,  71.,  57.,  44.])"
      ]
     },
     "execution_count": 9,
     "metadata": {},
     "output_type": "execute_result"
    },
    {
     "data": {
      "text/plain": [
       "array([  20. ,  712.6, 1405.2, 2097.8, 2790.4, 3483. , 4175.6, 4868.2,\n",
       "       5560.8, 6253.4, 6946. ])"
      ]
     },
     "execution_count": 9,
     "metadata": {},
     "output_type": "execute_result"
    },
    {
     "data": {
      "image/png": "[encoded data removed]",
      "text/plain": [
       "<Figure size 432x288 with 1 Axes>"
      ]
     },
     "metadata": {
      "needs_background": "light"
     },
     "output_type": "display_data"
    }
   ],
   "source": [
    "# 绘制灰度图的函数\n",
    "def histogram(data, x_label, y_label, title):\n",
    "    _, ax = plt.subplots()\n",
    "    res = ax.hist(data, color = '#539caf', bins=10) # 设置bin的数量\n",
    "    ax.set_ylabel(y_label)\n",
    "    ax.set_xlabel(x_label)\n",
    "    ax.set_title(title)\n",
    "    return res\n",
    "\n",
    "# 绘图函数调用\n",
    "res = histogram(data = daily_data['registered']\n",
    "           , x_label = 'Check outs'\n",
    "           , y_label = 'Frequency'\n",
    "           , title = 'Distribution of Registered Check Outs')\n",
    "res[0] # value of bins\n",
    "res[1] # boundary of bins"
   ]
  },
  {
   "cell_type": "markdown",
   "metadata": {},
   "source": [
    "#### 堆叠直方图\n",
    "* 比较两个分布"
   ]
  },
  {
   "cell_type": "code",
   "execution_count": 10,
   "metadata": {},
   "outputs": [
    {
     "data": {
      "image/png": "[encoded data removed]",
      "text/plain": [
       "<Figure size 432x288 with 1 Axes>"
      ]
     },
     "metadata": {
      "needs_background": "light"
     },
     "output_type": "display_data"
    }
   ],
   "source": [
    "# 绘制堆叠的直方图\n",
    "def overlaid_histogram(data1, data1_name, data1_color, data2, data2_name, data2_color, x_label, y_label, title):\n",
    "    # 归一化数据区间，对齐两个直方图的bins\n",
    "    max_nbins = 10\n",
    "    #计算边界\n",
    "    data_range = [min(min(data1), min(data2)), max(max(data1), max(data2))]\n",
    "    binwidth = (data_range[1] - data_range[0]) / max_nbins\n",
    "    bins = np.arange(data_range[0], data_range[1] + binwidth, binwidth) # 生成直方图bins区间\n",
    "\n",
    "    # Create the plot\n",
    "    _, ax = plt.subplots()\n",
    "    ax.hist(data1, bins = bins, color = data1_color, alpha = 1, label = data1_name)\n",
    "    ax.hist(data2, bins = bins, color = data2_color, alpha = 0.75, label = data2_name)\n",
    "    ax.set_ylabel(y_label)\n",
    "    ax.set_xlabel(x_label)\n",
    "    ax.set_title(title)\n",
    "    ax.legend(loc = 'best')\n",
    "\n",
    "# Call the function to create plot\n",
    "overlaid_histogram(data1 = daily_data['registered']\n",
    "                   , data1_name = 'Registered'\n",
    "                   , data1_color = '#539caf'\n",
    "                   , data2 = daily_data['casual']\n",
    "                   , data2_name = 'Casual'\n",
    "                   , data2_color = '#7663b0'\n",
    "                   , x_label = 'Check outs'\n",
    "                   , y_label = 'Frequency'\n",
    "                   , title = 'Distribution of Check Outs By Type')"
   ]
  },
  {
   "cell_type": "markdown",
   "metadata": {},
   "source": [
    "* registered：注册的分布，正态分布，why\n",
    "* casual：偶然的分布，疑似指数分布，why"
   ]
  },
  {
   "cell_type": "markdown",
   "metadata": {},
   "source": [
    "#### 密度图\n",
    "* 精细刻画概率分布"
   ]
  },
  {
   "cell_type": "markdown",
   "metadata": {},
   "source": [
    "KDE: kernal density estimate\n",
    "\n",
    "$\n",
    "\\hat{f}_h(x) = \\frac{1}{n}\\sum\\limits_{i=1}^n K_h(x-x_i) = \\frac{1}{nh}\\sum\\limits_{i=1}^n K(\\frac{x-x_i}{h})\n",
    "$"
   ]
  },
  {
   "cell_type": "code",
   "execution_count": 11,
   "metadata": {},
   "outputs": [
    {
     "data": {
      "image/png": "[encoded data removed]",
      "text/plain": [
       "<Figure size 432x288 with 1 Axes>"
      ]
     },
     "metadata": {
      "needs_background": "light"
     },
     "output_type": "display_data"
    }
   ],
   "source": [
    "# 计算概率密度\n",
    "from scipy.stats import gaussian_kde\n",
    "data = daily_data['registered']\n",
    "density_est = gaussian_kde(data) # kernal density estimate: https://en.wikipedia.org/wiki/Kernel_density_estimation\n",
    "# 控制平滑程度，数值越大，越平滑\n",
    "density_est.covariance_factor = lambda : .3\n",
    "density_est._compute_covariance()\n",
    "x_data = np.arange(min(data), max(data), 200)\n",
    "\n",
    "# 绘制密度估计曲线\n",
    "def densityplot(x_data, density_est, x_label, y_label, title):\n",
    "    _, ax = plt.subplots()\n",
    "    ax.plot(x_data, density_est(x_data), color = '#539caf', lw = 2)\n",
    "    ax.set_ylabel(y_label)\n",
    "    ax.set_xlabel(x_label)\n",
    "    ax.set_title(title)\n",
    "\n",
    "# 调用绘图函数\n",
    "densityplot(x_data = x_data\n",
    "            , density_est = density_est\n",
    "            , x_label = 'Check outs'\n",
    "            , y_label = 'Frequency'\n",
    "            , title = 'Distribution of Registered Check Outs')"
   ]
  },
  {
   "cell_type": "code",
   "execution_count": 12,
   "metadata": {},
   "outputs": [
    {
     "data": {
      "text/plain": [
       "scipy.stats.kde.gaussian_kde"
      ]
     },
     "execution_count": 12,
     "metadata": {},
     "output_type": "execute_result"
    }
   ],
   "source": [
    "type(density_est)"
   ]
  },
  {
   "cell_type": "markdown",
   "metadata": {},
   "source": [
    "### 步骤5：组间分析\n",
    "\n",
    "* 组间定量比较\n",
    "* 分组粒度\n",
    "* 组间聚类\n",
    "\n",
    "#### 柱状图\n",
    "* 一级类间均值方差比较"
   ]
  },
  {
   "cell_type": "code",
   "execution_count": 13,
   "metadata": {},
   "outputs": [
    {
     "data": {
      "image/png": "[encoded data removed]",
      "text/plain": [
       "<Figure size 432x288 with 1 Axes>"
      ]
     },
     "metadata": {
      "needs_background": "light"
     },
     "output_type": "display_data"
    }
   ],
   "source": [
    "# 分天分析统计特征\n",
    "mean_total_co_day = daily_data[['weekday', 'cnt']].groupby('weekday').agg([np.mean, np.std])\n",
    "mean_total_co_day.columns = mean_total_co_day.columns.droplevel()\n",
    "\n",
    "# 定义绘制柱状图的函数\n",
    "def barplot(x_data, y_data, error_data, x_label, y_label, title):\n",
    "    _, ax = plt.subplots()\n",
    "    # 柱状图\n",
    "    ax.bar(x_data, y_data, color = '#539caf', align = 'center')\n",
    "    # 绘制方差\n",
    "    # ls='none'去掉bar之间的连线\n",
    "    ax.errorbar(x_data, y_data, yerr = error_data, color = '#297083', ls = 'none', lw = 5)\n",
    "    ax.set_ylabel(y_label)\n",
    "    ax.set_xlabel(x_label)\n",
    "    ax.set_title(title)\n",
    "\n",
    "# 绘图函数调用\n",
    "barplot(x_data = mean_total_co_day.index.values\n",
    "        , y_data = mean_total_co_day['mean']\n",
    "        , error_data = mean_total_co_day['std']\n",
    "        , x_label = 'Day of week'\n",
    "        , y_label = 'Check outs'\n",
    "        , title = 'Total Check Outs By Day of Week (0 = Sunday)')"
   ]
  },
  {
   "cell_type": "code",
   "execution_count": 14,
   "metadata": {},
   "outputs": [
    {
     "data": {
      "text/plain": [
       "Index(['mean', 'std'], dtype='object')"
      ]
     },
     "execution_count": 14,
     "metadata": {},
     "output_type": "execute_result"
    },
    {
     "data": {
      "text/html": [
       "<div>\n",
       "<style scoped>\n",
       "    .dataframe tbody tr th:only-of-type {\n",
       "        vertical-align: middle;\n",
       "    }\n",
       "\n",
       "    .dataframe tbody tr th {\n",
       "        vertical-align: top;\n",
       "    }\n",
       "\n",
       "    .dataframe thead tr th {\n",
       "        text-align: left;\n",
       "    }\n",
       "\n",
       "    .dataframe thead tr:last-of-type th {\n",
       "        text-align: right;\n",
       "    }\n",
       "</style>\n",
       "<table border=\"1\" class=\"dataframe\">\n",
       "  <thead>\n",
       "    <tr>\n",
       "      <th></th>\n",
       "      <th colspan=\"2\" halign=\"left\">cnt</th>\n",
       "    </tr>\n",
       "    <tr>\n",
       "      <th></th>\n",
       "      <th>mean</th>\n",
       "      <th>std</th>\n",
       "    </tr>\n",
       "    <tr>\n",
       "      <th>weekday</th>\n",
       "      <th></th>\n",
       "      <th></th>\n",
       "    </tr>\n",
       "  </thead>\n",
       "  <tbody>\n",
       "    <tr>\n",
       "      <th>0</th>\n",
       "      <td>4228.828571</td>\n",
       "      <td>1872.496629</td>\n",
       "    </tr>\n",
       "    <tr>\n",
       "      <th>1</th>\n",
       "      <td>4338.123810</td>\n",
       "      <td>1793.074013</td>\n",
       "    </tr>\n",
       "    <tr>\n",
       "      <th>2</th>\n",
       "      <td>4510.663462</td>\n",
       "      <td>1826.911642</td>\n",
       "    </tr>\n",
       "    <tr>\n",
       "      <th>3</th>\n",
       "      <td>4548.538462</td>\n",
       "      <td>2038.095884</td>\n",
       "    </tr>\n",
       "    <tr>\n",
       "      <th>4</th>\n",
       "      <td>4667.259615</td>\n",
       "      <td>1939.433317</td>\n",
       "    </tr>\n",
       "    <tr>\n",
       "      <th>5</th>\n",
       "      <td>4690.288462</td>\n",
       "      <td>1874.624870</td>\n",
       "    </tr>\n",
       "    <tr>\n",
       "      <th>6</th>\n",
       "      <td>4550.542857</td>\n",
       "      <td>2196.693009</td>\n",
       "    </tr>\n",
       "  </tbody>\n",
       "</table>\n",
       "</div>"
      ],
      "text/plain": [
       "                 cnt             \n",
       "                mean          std\n",
       "weekday                          \n",
       "0        4228.828571  1872.496629\n",
       "1        4338.123810  1793.074013\n",
       "2        4510.663462  1826.911642\n",
       "3        4548.538462  2038.095884\n",
       "4        4667.259615  1939.433317\n",
       "5        4690.288462  1874.624870\n",
       "6        4550.542857  2196.693009"
      ]
     },
     "execution_count": 14,
     "metadata": {},
     "output_type": "execute_result"
    }
   ],
   "source": [
    "mean_total_co_day.columns\n",
    "daily_data[['weekday', 'cnt']].groupby('weekday').agg([np.mean, np.std])"
   ]
  },
  {
   "cell_type": "markdown",
   "metadata": {},
   "source": [
    "#### 堆积柱状图\n",
    "* 多级类间相对占比比较"
   ]
  },
  {
   "cell_type": "code",
   "execution_count": 15,
   "metadata": {},
   "outputs": [
    {
     "data": {
      "text/html": [
       "<div>\n",
       "<style scoped>\n",
       "    .dataframe tbody tr th:only-of-type {\n",
       "        vertical-align: middle;\n",
       "    }\n",
       "\n",
       "    .dataframe tbody tr th {\n",
       "        vertical-align: top;\n",
       "    }\n",
       "\n",
       "    .dataframe thead th {\n",
       "        text-align: right;\n",
       "    }\n",
       "</style>\n",
       "<table border=\"1\" class=\"dataframe\">\n",
       "  <thead>\n",
       "    <tr style=\"text-align: right;\">\n",
       "      <th></th>\n",
       "      <th>registered</th>\n",
       "      <th>casual</th>\n",
       "    </tr>\n",
       "    <tr>\n",
       "      <th>weekday</th>\n",
       "      <th></th>\n",
       "      <th></th>\n",
       "    </tr>\n",
       "  </thead>\n",
       "  <tbody>\n",
       "    <tr>\n",
       "      <th>0</th>\n",
       "      <td>2890.533333</td>\n",
       "      <td>1338.295238</td>\n",
       "    </tr>\n",
       "    <tr>\n",
       "      <th>1</th>\n",
       "      <td>3663.990476</td>\n",
       "      <td>674.133333</td>\n",
       "    </tr>\n",
       "    <tr>\n",
       "      <th>2</th>\n",
       "      <td>3954.480769</td>\n",
       "      <td>556.182692</td>\n",
       "    </tr>\n",
       "    <tr>\n",
       "      <th>3</th>\n",
       "      <td>3997.394231</td>\n",
       "      <td>551.144231</td>\n",
       "    </tr>\n",
       "    <tr>\n",
       "      <th>4</th>\n",
       "      <td>4076.298077</td>\n",
       "      <td>590.961538</td>\n",
       "    </tr>\n",
       "    <tr>\n",
       "      <th>5</th>\n",
       "      <td>3938.000000</td>\n",
       "      <td>752.288462</td>\n",
       "    </tr>\n",
       "    <tr>\n",
       "      <th>6</th>\n",
       "      <td>3085.285714</td>\n",
       "      <td>1465.257143</td>\n",
       "    </tr>\n",
       "  </tbody>\n",
       "</table>\n",
       "</div>"
      ],
      "text/plain": [
       "          registered       casual\n",
       "weekday                          \n",
       "0        2890.533333  1338.295238\n",
       "1        3663.990476   674.133333\n",
       "2        3954.480769   556.182692\n",
       "3        3997.394231   551.144231\n",
       "4        4076.298077   590.961538\n",
       "5        3938.000000   752.288462\n",
       "6        3085.285714  1465.257143"
      ]
     },
     "execution_count": 15,
     "metadata": {},
     "output_type": "execute_result"
    }
   ],
   "source": [
    "mean_by_reg_co_day = daily_data[['weekday', 'registered', 'casual']].groupby('weekday').mean()\n",
    "mean_by_reg_co_day"
   ]
  },
  {
   "cell_type": "code",
   "execution_count": 16,
   "metadata": {},
   "outputs": [
    {
     "name": "stdout",
     "output_type": "stream",
     "text": [
      "[0 1 2 3 4 5 6]\n",
      "[weekday\n",
      "0    0.683531\n",
      "1    0.844603\n",
      "2    0.876696\n",
      "3    0.878830\n",
      "4    0.873381\n",
      "5    0.839607\n",
      "6    0.678004\n",
      "Name: reg_prop, dtype: float64, weekday\n",
      "0    0.316469\n",
      "1    0.155397\n",
      "2    0.123304\n",
      "3    0.121170\n",
      "4    0.126619\n",
      "5    0.160393\n",
      "6    0.321996\n",
      "Name: casual_prop, dtype: float64]\n"
     ]
    },
    {
     "data": {
      "image/png": "[encoded data removed]",
      "text/plain": [
       "<Figure size 432x288 with 1 Axes>"
      ]
     },
     "metadata": {
      "needs_background": "light"
     },
     "output_type": "display_data"
    }
   ],
   "source": [
    "# 分天统计注册和偶然使用的情况\n",
    "mean_by_reg_co_day = daily_data[['weekday', 'registered', 'casual']].groupby('weekday').mean()\n",
    "# 分天统计注册和偶然使用的占比\n",
    "mean_by_reg_co_day['total'] = mean_by_reg_co_day['registered'] + mean_by_reg_co_day['casual']\n",
    "mean_by_reg_co_day['reg_prop'] = mean_by_reg_co_day['registered'] / mean_by_reg_co_day['total']\n",
    "mean_by_reg_co_day['casual_prop'] = mean_by_reg_co_day['casual'] / mean_by_reg_co_day['total']\n",
    "print(mean_by_reg_co_day.index.values)\n",
    "print([mean_by_reg_co_day['reg_prop'], mean_by_reg_co_day['casual_prop']])\n",
    "\n",
    "\n",
    "# 绘制堆积柱状图\n",
    "def stackedbarplot(x_data, y_data_list, y_data_names, colors, x_label, y_label, title):\n",
    "    _, ax = plt.subplots()\n",
    "    # 循环绘制堆积柱状图\n",
    "    for i in range(0, len(y_data_list)):\n",
    "        if i == 0:\n",
    "            ax.bar(x_data, y_data_list[i], color = colors[i], align = 'center', label = y_data_names[i])\n",
    "        else:\n",
    "            # 采用堆积的方式，除了第一个分类，后面的分类都从前一个分类的柱状图接着画\n",
    "            # 用归一化保证最终累积结果为1\n",
    "            ax.bar(x_data, y_data_list[i], color = colors[i], bottom = y_data_list[i - 1], align = 'center', label = y_data_names[i])\n",
    "    ax.set_ylabel(y_label)\n",
    "    ax.set_xlabel(x_label)\n",
    "    ax.set_title(title)\n",
    "    ax.legend(loc = 'upper right') # 设定图例位置\n",
    "\n",
    "# 调用绘图函数\n",
    "stackedbarplot(x_data = mean_by_reg_co_day.index.values\n",
    "               , y_data_list = [mean_by_reg_co_day['reg_prop'], mean_by_reg_co_day['casual_prop']]\n",
    "               , y_data_names = ['Registered', 'Casual']\n",
    "               , colors = ['#539caf', '#7663b0']\n",
    "               , x_label = 'Day of week'\n",
    "               , y_label = 'Proportion of check outs'\n",
    "               , title = 'Check Outs By Registration Status and Day of Week (0 = Sunday)')"
   ]
  },
  {
   "cell_type": "markdown",
   "metadata": {},
   "source": [
    "* 从这幅图你看出了什么？工作日 VS 节假日\n",
    "* 为什么会有这样的差别？"
   ]
  },
  {
   "cell_type": "markdown",
   "metadata": {},
   "source": [
    "#### 分组柱状图\n",
    "* 多级类间绝对数值比较"
   ]
  },
  {
   "cell_type": "code",
   "execution_count": 17,
   "metadata": {},
   "outputs": [
    {
     "data": {
      "text/html": [
       "<div>\n",
       "<style scoped>\n",
       "    .dataframe tbody tr th:only-of-type {\n",
       "        vertical-align: middle;\n",
       "    }\n",
       "\n",
       "    .dataframe tbody tr th {\n",
       "        vertical-align: top;\n",
       "    }\n",
       "\n",
       "    .dataframe thead th {\n",
       "        text-align: right;\n",
       "    }\n",
       "</style>\n",
       "<table border=\"1\" class=\"dataframe\">\n",
       "  <thead>\n",
       "    <tr style=\"text-align: right;\">\n",
       "      <th></th>\n",
       "      <th>registered</th>\n",
       "      <th>casual</th>\n",
       "      <th>total</th>\n",
       "      <th>reg_prop</th>\n",
       "      <th>casual_prop</th>\n",
       "    </tr>\n",
       "    <tr>\n",
       "      <th>weekday</th>\n",
       "      <th></th>\n",
       "      <th></th>\n",
       "      <th></th>\n",
       "      <th></th>\n",
       "      <th></th>\n",
       "    </tr>\n",
       "  </thead>\n",
       "  <tbody>\n",
       "    <tr>\n",
       "      <th>0</th>\n",
       "      <td>2890.533333</td>\n",
       "      <td>1338.295238</td>\n",
       "      <td>4228.828571</td>\n",
       "      <td>0.683531</td>\n",
       "      <td>0.316469</td>\n",
       "    </tr>\n",
       "    <tr>\n",
       "      <th>1</th>\n",
       "      <td>3663.990476</td>\n",
       "      <td>674.133333</td>\n",
       "      <td>4338.123810</td>\n",
       "      <td>0.844603</td>\n",
       "      <td>0.155397</td>\n",
       "    </tr>\n",
       "    <tr>\n",
       "      <th>2</th>\n",
       "      <td>3954.480769</td>\n",
       "      <td>556.182692</td>\n",
       "      <td>4510.663462</td>\n",
       "      <td>0.876696</td>\n",
       "      <td>0.123304</td>\n",
       "    </tr>\n",
       "    <tr>\n",
       "      <th>3</th>\n",
       "      <td>3997.394231</td>\n",
       "      <td>551.144231</td>\n",
       "      <td>4548.538462</td>\n",
       "      <td>0.878830</td>\n",
       "      <td>0.121170</td>\n",
       "    </tr>\n",
       "    <tr>\n",
       "      <th>4</th>\n",
       "      <td>4076.298077</td>\n",
       "      <td>590.961538</td>\n",
       "      <td>4667.259615</td>\n",
       "      <td>0.873381</td>\n",
       "      <td>0.126619</td>\n",
       "    </tr>\n",
       "  </tbody>\n",
       "</table>\n",
       "</div>"
      ],
      "text/plain": [
       "          registered       casual        total  reg_prop  casual_prop\n",
       "weekday                                                              \n",
       "0        2890.533333  1338.295238  4228.828571  0.683531     0.316469\n",
       "1        3663.990476   674.133333  4338.123810  0.844603     0.155397\n",
       "2        3954.480769   556.182692  4510.663462  0.876696     0.123304\n",
       "3        3997.394231   551.144231  4548.538462  0.878830     0.121170\n",
       "4        4076.298077   590.961538  4667.259615  0.873381     0.126619"
      ]
     },
     "execution_count": 17,
     "metadata": {},
     "output_type": "execute_result"
    }
   ],
   "source": [
    "mean_by_reg_co_day.head()"
   ]
  },
  {
   "cell_type": "code",
   "execution_count": 18,
   "metadata": {},
   "outputs": [
    {
     "data": {
      "text/plain": [
       "weekday\n",
       "0    2890.533333\n",
       "1    3663.990476\n",
       "2    3954.480769\n",
       "3    3997.394231\n",
       "4    4076.298077\n",
       "5    3938.000000\n",
       "6    3085.285714\n",
       "Name: registered, dtype: float64"
      ]
     },
     "execution_count": 18,
     "metadata": {},
     "output_type": "execute_result"
    }
   ],
   "source": [
    "mean_by_reg_co_day['registered'].head(15)"
   ]
  },
  {
   "cell_type": "code",
   "execution_count": 19,
   "metadata": {},
   "outputs": [
    {
     "name": "stdout",
     "output_type": "stream",
     "text": [
      "[0 1 2 3 4 5 6]\n",
      "[weekday\n",
      "0    2890.533333\n",
      "1    3663.990476\n",
      "2    3954.480769\n",
      "3    3997.394231\n",
      "4    4076.298077\n",
      "5    3938.000000\n",
      "6    3085.285714\n",
      "Name: registered, dtype: float64, weekday\n",
      "0    1338.295238\n",
      "1     674.133333\n",
      "2     556.182692\n",
      "3     551.144231\n",
      "4     590.961538\n",
      "5     752.288462\n",
      "6    1465.257143\n",
      "Name: casual, dtype: float64]\n"
     ]
    },
    {
     "data": {
      "image/png": "[encoded data removed]",
      "text/plain": [
       "<Figure size 432x288 with 1 Axes>"
      ]
     },
     "metadata": {
      "needs_background": "light"
     },
     "output_type": "display_data"
    }
   ],
   "source": [
    "# 绘制分组柱状图的函数\n",
    "def groupedbarplot(x_data, y_data_list, y_data_names, colors, x_label, y_label, title):\n",
    "    _, ax = plt.subplots()\n",
    "    # 设置每一组柱状图的宽度\n",
    "    total_width = 0.8\n",
    "    # 设置每一个柱状图的宽度\n",
    "    ind_width = total_width / len(y_data_list)\n",
    "    # 计算每一个柱状图的中心偏移\n",
    "    alteration = np.arange(-total_width/2+ind_width/2, total_width/2+ind_width/2, ind_width)\n",
    "\n",
    "    # 分别绘制每一个柱状图\n",
    "    for i in range(0, len(y_data_list)):\n",
    "        # 横向散开绘制\n",
    "        ax.bar(x_data + alteration[i], y_data_list[i], color = colors[i], label = y_data_names[i], width = ind_width)\n",
    "    ax.set_ylabel(y_label)\n",
    "    ax.set_xlabel(x_label)\n",
    "    ax.set_title(title)\n",
    "    ax.legend(loc = 'upper right')\n",
    "    \n",
    "print(mean_by_reg_co_day.index.values)\n",
    "print([mean_by_reg_co_day['registered'], mean_by_reg_co_day['casual']])\n",
    "\n",
    "# 调用绘图函数\n",
    "groupedbarplot(x_data = mean_by_reg_co_day.index.values\n",
    "               , y_data_list = [mean_by_reg_co_day['registered'], mean_by_reg_co_day['casual']]\n",
    "               , y_data_names = ['Registered', 'Casual']\n",
    "               , colors = ['#539caf', '#7663b0']\n",
    "               , x_label = 'Day of week'\n",
    "               , y_label = 'Check outs'\n",
    "               , title = 'Check Outs By Registration Status and Day of Week (0 = Sunday)')\n"
   ]
  },
  {
   "cell_type": "markdown",
   "metadata": {},
   "source": [
    "* 偏移前：ind_width/2\n",
    "* 偏移后：total_width/2\n",
    "* 偏移量：total_width/2-ind_width/2"
   ]
  },
  {
   "cell_type": "markdown",
   "metadata": {},
   "source": [
    "#### 箱式图\n",
    "* 多级类间数据分布比较\n",
    "* 柱状图 + 堆叠灰度图"
   ]
  },
  {
   "cell_type": "code",
   "execution_count": 20,
   "metadata": {},
   "outputs": [
    {
     "data": {
      "image/png": "[encoded data removed]",
      "text/plain": [
       "<Figure size 432x288 with 1 Axes>"
      ]
     },
     "metadata": {
      "needs_background": "light"
     },
     "output_type": "display_data"
    }
   ],
   "source": [
    "# 只需要指定分类的依据，就能自动绘制箱式图\n",
    "days = np.unique(daily_data['weekday'])\n",
    "bp_data = []\n",
    "for day in days:\n",
    "    bp_data.append(daily_data[daily_data['weekday'] == day]['cnt'].values)\n",
    "\n",
    "# 定义绘图函数\n",
    "def boxplot(x_data, y_data, base_color, median_color, x_label, y_label, title):\n",
    "    _, ax = plt.subplots()\n",
    "\n",
    "    # 设置样式\n",
    "    ax.boxplot(y_data\n",
    "               # 箱子是否颜色填充\n",
    "               , patch_artist = True\n",
    "               # 中位数线颜色\n",
    "               , medianprops = {'color': base_color}\n",
    "               # 箱子颜色设置，color：边框颜色，facecolor：填充颜色\n",
    "               , boxprops = {'color': base_color, 'facecolor': median_color}\n",
    "               # 猫须颜色whisker\n",
    "               , whiskerprops = {'color': median_color}\n",
    "               # 猫须界限颜色whisker cap\n",
    "               , capprops = {'color': base_color})\n",
    "\n",
    "    # 箱图与x_data保持一致\n",
    "    ax.set_xticklabels(x_data)\n",
    "    ax.set_ylabel(y_label)\n",
    "    ax.set_xlabel(x_label)\n",
    "    ax.set_title(title)\n",
    "\n",
    "# 调用绘图函数\n",
    "boxplot(x_data = days\n",
    "        , y_data = bp_data\n",
    "        , base_color = 'b'\n",
    "        , median_color = 'r'\n",
    "        , x_label = 'Day of week'\n",
    "        , y_label = 'Check outs'\n",
    "        , title = 'Total Check Outs By Day of Week (0 = Sunday)')"
   ]
  },
  {
   "cell_type": "markdown",
   "metadata": {},
   "source": [
    "## 简单总结\n",
    "\n",
    "* 关联分析、数值比较：散点图、曲线图\n",
    "* 分布分析：灰度图、密度图\n",
    "* 涉及分类的分析：柱状图、箱式图"
   ]
  }
 ],
 "metadata": {
  "kernelspec": {
   "display_name": "Python 3",
   "language": "python",
   "name": "python3"
  },
  "language_info": {
   "codemirror_mode": {
    "name": "ipython",
    "version": 3
   },
   "file_extension": ".py",
   "mimetype": "text/x-python",
   "name": "python",
   "nbconvert_exporter": "python",
   "pygments_lexer": "ipython3",
   "version": "3.6.6"
  },
  "toc": {
   "base_numbering": 1,
   "nav_menu": {},
   "number_sections": true,
   "sideBar": true,
   "skip_h1_title": false,
   "title_cell": "Table of Contents",
   "title_sidebar": "Contents",
   "toc_cell": false,
   "toc_position": {},
   "toc_section_display": true,
   "toc_window_display": true
  }
 },
 "nbformat": 4,
 "nbformat_minor": 2
}
